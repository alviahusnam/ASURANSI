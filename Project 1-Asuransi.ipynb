{
 "cells": [
  {
   "cell_type": "code",
   "execution_count": 1,
   "id": "0fa0bfc4-1b93-4b0c-ba2d-2896fabbce51",
   "metadata": {},
   "outputs": [
    {
     "name": "stdout",
     "output_type": "stream",
     "text": [
      "      age     sex     bmi  children smoker     region      charges\n",
      "0      19  female  27.900         0    yes  southwest  16884.92400\n",
      "1      18    male  33.770         1     no  southeast   1725.55230\n",
      "2      28    male  33.000         3     no  southeast   4449.46200\n",
      "3      33    male  22.705         0     no  northwest  21984.47061\n",
      "4      32    male  28.880         0     no  northwest   3866.85520\n",
      "...   ...     ...     ...       ...    ...        ...          ...\n",
      "1333   50    male  30.970         3     no  northwest  10600.54830\n",
      "1334   18  female  31.920         0     no  northeast   2205.98080\n",
      "1335   18  female  36.850         0     no  southeast   1629.83350\n",
      "1336   21  female  25.800         0     no  southwest   2007.94500\n",
      "1337   61  female  29.070         0    yes  northwest  29141.36030\n",
      "\n",
      "[1338 rows x 7 columns]\n"
     ]
    }
   ],
   "source": [
    "import pandas as pd\n",
    "import numpy as np\n",
    "import random\n",
    "\n",
    "df = pd.read_csv (r'D:\\SEKOLAH\\PACMANN\\PROBA 1\\Project 1\\insurance.csv')\n",
    "print (df)"
   ]
  },
  {
   "cell_type": "code",
   "execution_count": 2,
   "id": "07fce6af-7a00-497b-b48b-a42820c1266b",
   "metadata": {},
   "outputs": [
    {
     "name": "stdout",
     "output_type": "stream",
     "text": [
      "Rata-rata umur perokok pada data yang telah dirangkum adalah 38.515\n",
      "Rata-rata umur bukan perokok pada data yang telah dirangkum adalah 39.385\n"
     ]
    }
   ],
   "source": [
    "mean_age_smoker = df[df['smoker'] == 'yes']['age'].mean()\n",
    "print(f'Rata-rata umur perokok pada data yang telah dirangkum adalah {mean_age_smoker:.3f}')\n",
    "mean_age_no_smoker = df[df['smoker'] == 'no']['age'].mean()\n",
    "print(f'Rata-rata umur bukan perokok pada data yang telah dirangkum adalah {mean_age_no_smoker:.3f}')"
   ]
  },
  {
   "cell_type": "code",
   "execution_count": 3,
   "id": "f07d7250-9c0f-46d6-9f08-9c71e6c9c49c",
   "metadata": {},
   "outputs": [
    {
     "name": "stdout",
     "output_type": "stream",
     "text": [
      "Rata-rata BMI pada data yang telah dirangkum adalah 30.663\n",
      "Rata-rata BMI perokok pada data yang telah dirangkum adalah 30.708\n",
      "Rata-rata BMI bukan perokok pada data yang telah dirangkum adalah 30.652\n"
     ]
    }
   ],
   "source": [
    "mean_bmi = df['bmi'].mean()\n",
    "mean_bmi_smoker = df[df['smoker'] == 'yes']['bmi'].mean()\n",
    "mean_bmi_no_smoker = df[df['smoker'] == 'no']['bmi'].mean()\n",
    "print(f'Rata-rata BMI pada data yang telah dirangkum adalah {mean_bmi:.3f}')\n",
    "print(f'Rata-rata BMI perokok pada data yang telah dirangkum adalah {mean_bmi_smoker:.3f}')\n",
    "print(f'Rata-rata BMI bukan perokok pada data yang telah dirangkum adalah {mean_bmi_no_smoker:.3f}')"
   ]
  },
  {
   "cell_type": "code",
   "execution_count": 4,
   "id": "a056f785-1811-4b53-b830-873610933ba4",
   "metadata": {},
   "outputs": [
    {
     "name": "stdout",
     "output_type": "stream",
     "text": [
      "Rata-rata umur pada data yang telah dirangkum adalah 39.207\n"
     ]
    }
   ],
   "source": [
    "mean_age = df['age'].mean()\n",
    "\n",
    "print(f'Rata-rata umur pada data yang telah dirangkum adalah {mean_age:.3f}')"
   ]
  },
  {
   "cell_type": "code",
   "execution_count": 5,
   "id": "9c0a4edb-7ada-40ce-8ed0-0db7902b0402",
   "metadata": {},
   "outputs": [
    {
     "name": "stdout",
     "output_type": "stream",
     "text": [
      "Variansi tagihan kesehatan perokok 133207311.20634921\n",
      "Variansi tagihan kesehatan bukan perokok 35925420.49611172\n",
      "----------------------------------------------------------------------------------------------------------------------\n",
      "Variansi tagihan kesehatan antara perokok dan bukan perokok tidak sama. Variansi tagihan kesehatan perokok lebih besar\n"
     ]
    }
   ],
   "source": [
    "var_charges_smoker = df[df['smoker'] == 'yes']['charges'].var()\n",
    "print(f'Variansi tagihan kesehatan perokok {var_charges_smoker}')\n",
    "\n",
    "var_charges_no_smoker = df[df['smoker'] == 'no']['charges'].var()\n",
    "print(f'Variansi tagihan kesehatan bukan perokok {var_charges_no_smoker}')\n",
    "\n",
    "print('----------------------------------------------------------------------------------------------------------------------')\n",
    "print('Variansi tagihan kesehatan antara perokok dan bukan perokok tidak sama. Variansi tagihan kesehatan perokok lebih besar')"
   ]
  },
  {
   "cell_type": "code",
   "execution_count": 6,
   "id": "5394f95f-fc91-47d1-a9f1-9f8a870c6784",
   "metadata": {},
   "outputs": [
    {
     "name": "stdout",
     "output_type": "stream",
     "text": [
      "Rata-rata umur perempuan yang merokok 38.609\n",
      "Rata-rata umur laki-laki yang merokok 38.447\n",
      "-------------------------------------------------------------------------------------------------------------------\n",
      "Rata rata umur perempuan dan laki-laki yang merokok tidak sama. Perempuan memilik rata-rata umur yang lebih tinggi\n"
     ]
    }
   ],
   "source": [
    "mean_smoker_female_age = (df[(df.smoker=='yes') & (df.sex == 'female')])['age'].mean()\n",
    "print(f'Rata-rata umur perempuan yang merokok {mean_smoker_female_age:.3f}')\n",
    "\n",
    "mean_smoker_male_age = (df[(df.smoker=='yes') & (df.sex == 'male')])['age'].mean()\n",
    "print(f'Rata-rata umur laki-laki yang merokok {mean_smoker_male_age:.3f}')\n",
    "\n",
    "print('-------------------------------------------------------------------------------------------------------------------')\n",
    "print(f'Rata rata umur perempuan dan laki-laki yang merokok tidak sama. Perempuan memilik rata-rata umur yang lebih tinggi')"
   ]
  },
  {
   "cell_type": "code",
   "execution_count": 7,
   "id": "779e4c0a-a8d9-4743-8c24-27803932eae7",
   "metadata": {},
   "outputs": [
    {
     "name": "stdout",
     "output_type": "stream",
     "text": [
      "Rata-rata tagihan kesehatan perokok 32050.23183153285\n",
      "Rata-rata tagihan kesehatan bukan perokok 8434.268297856199\n",
      "-----------------------------------------------------------------------------------------------------------\n",
      "Rata-rata tagihan kesehatan antara perokok dan bukan perokok tidak sama. Perokok memiliki rata-rata tagihan kesehatan yang lebih besar\n"
     ]
    }
   ],
   "source": [
    "mean_charges_smoker = df[df['smoker'] == 'yes']['charges'].mean()\n",
    "print(f'Rata-rata tagihan kesehatan perokok {mean_charges_smoker}')\n",
    "\n",
    "mean_charges_no_smoker = df[df['smoker'] == 'no']['charges'].mean()\n",
    "print(f'Rata-rata tagihan kesehatan bukan perokok {mean_charges_no_smoker}')\n",
    "\n",
    "print('-----------------------------------------------------------------------------------------------------------')\n",
    "print('Rata-rata tagihan kesehatan antara perokok dan bukan perokok tidak sama. Perokok memiliki rata-rata tagihan kesehatan yang lebih besar')"
   ]
  },
  {
   "cell_type": "code",
   "execution_count": 8,
   "id": "a6e0785d-36aa-4497-b230-5eeddf9411c9",
   "metadata": {},
   "outputs": [
    {
     "name": "stdout",
     "output_type": "stream",
     "text": [
      "Rata-rata tagihan kesehatan perokok dengan BMI>25 35116.910\n",
      "Rata-rata tagihan kesehatan bukan perokok dengan BMI>25 8629.590\n",
      "------------------------------------------------------------------------------------------------------------------\n",
      "Rata-rata tagihan kesehatan perokok yang memiliki BMI>25 lebih besar dibanding bukan perokok yang memiliki BMI>25\n"
     ]
    }
   ],
   "source": [
    "mean_smoker_bmi_25 = (df[(df.smoker=='yes') & (df.bmi > 25)])['charges'].mean()\n",
    "print(f'Rata-rata tagihan kesehatan perokok dengan BMI>25 {mean_smoker_bmi_25:.3f}')\n",
    "\n",
    "mean_no_smoker_bmi_25 = (df[(df.smoker=='no') & (df.bmi > 25)])['charges'].mean()\n",
    "print(f'Rata-rata tagihan kesehatan bukan perokok dengan BMI>25 {mean_no_smoker_bmi_25:.3f}')\n",
    "\n",
    "print('------------------------------------------------------------------------------------------------------------------')\n",
    "print(f'Rata-rata tagihan kesehatan perokok yang memiliki BMI>25 lebih besar dibanding bukan perokok yang memiliki BMI>25')"
   ]
  },
  {
   "cell_type": "code",
   "execution_count": 9,
   "id": "07ba7254-2351-4a31-a446-98e6388299a7",
   "metadata": {},
   "outputs": [
    {
     "name": "stdout",
     "output_type": "stream",
     "text": [
      "Rata-rata BMI perempuan 30.377749244713023\n",
      "Rata-rata BMI laki-laki 30.943128698224832\n",
      "-----------------------------------------------------------------------------------------------------------\n",
      "Rata-rata BMI antara perempuan dan laki-laki tidak sama. Laki-laki memiliki rata-rata BMI yang lebih besar\n"
     ]
    }
   ],
   "source": [
    "mean_bmi_female = df[df['sex'] == 'female']['bmi'].mean()\n",
    "print(f'Rata-rata BMI perempuan {mean_bmi_female}')\n",
    "\n",
    "mean_bmi_male = df[df['sex'] == 'male']['bmi'].mean()\n",
    "print(f'Rata-rata BMI laki-laki {mean_bmi_male}')\n",
    "\n",
    "print('-----------------------------------------------------------------------------------------------------------')\n",
    "print('Rata-rata BMI antara perempuan dan laki-laki tidak sama. Laki-laki memiliki rata-rata BMI yang lebih besar')"
   ]
  },
  {
   "cell_type": "code",
   "execution_count": 10,
   "id": "bdd8d37e-e156-43de-ad7c-40393d875b0f",
   "metadata": {},
   "outputs": [
    {
     "name": "stdout",
     "output_type": "stream",
     "text": [
      "Rata-rata BMI perokok 30.708448905109503\n",
      "Rata-rata BMI bukan perokok 30.651795112781922\n",
      "-----------------------------------------------------------------------------------------------------------\n",
      "Rata-rata BMI antara perokok dan bukan perokok tidak sama. Perokok memiliki rata-rata BMI yang lebih besar\n"
     ]
    }
   ],
   "source": [
    "mean_bmi_smoker = df[df['smoker'] == 'yes']['bmi'].mean()\n",
    "print(f'Rata-rata BMI perokok {mean_bmi_smoker}')\n",
    "\n",
    "mean_bmi_no_smoker = df[df['smoker'] == 'no']['bmi'].mean()\n",
    "print(f'Rata-rata BMI bukan perokok {mean_bmi_no_smoker}')\n",
    "\n",
    "print('-----------------------------------------------------------------------------------------------------------')\n",
    "print('Rata-rata BMI antara perokok dan bukan perokok tidak sama. Perokok memiliki rata-rata BMI yang lebih besar')"
   ]
  },
  {
   "cell_type": "code",
   "execution_count": 33,
   "id": "98bf9a89-92c4-483b-8970-1a69bde80a6e",
   "metadata": {},
   "outputs": [],
   "source": [
    "#PMF"
   ]
  },
  {
   "cell_type": "code",
   "execution_count": 11,
   "id": "fe78d949-bc10-43d5-bc8c-177a88e54e54",
   "metadata": {},
   "outputs": [
    {
     "name": "stdout",
     "output_type": "stream",
     "text": [
      "Nilai tagihan kesehatan paling tinggi untuk perempuan 63770.42801\n",
      "Nilai tagihan kesehatan paling tinggi untuk laki-laki 62592.87309\n",
      "-----------------------------------------------------------------------------------------------------------\n",
      "Nilai tagihan kesehatan paling tinggi ada pada perempuan\n"
     ]
    }
   ],
   "source": [
    "max_charges_female = df[df['sex'] == 'female']['charges'].max()\n",
    "print(f'Nilai tagihan kesehatan paling tinggi untuk perempuan {max_charges_female}')\n",
    "\n",
    "max_charges_male = df[df['sex'] == 'male']['charges'].max()\n",
    "print(f'Nilai tagihan kesehatan paling tinggi untuk laki-laki {max_charges_male}')\n",
    "\n",
    "print('-----------------------------------------------------------------------------------------------------------')\n",
    "print('Nilai tagihan kesehatan paling tinggi ada pada perempuan')"
   ]
  },
  {
   "cell_type": "code",
   "execution_count": 12,
   "id": "2899ac26-b668-4c53-aec6-f32bdba375a5",
   "metadata": {},
   "outputs": [],
   "source": [
    "import matplotlib.pyplot as plt\n",
    "import seaborn as sns"
   ]
  },
  {
   "cell_type": "code",
   "execution_count": 13,
   "id": "d1521dff-d1da-4050-813b-1f04776720f6",
   "metadata": {},
   "outputs": [
    {
     "name": "stdout",
     "output_type": "stream",
     "text": [
      "Jumlah tagihan 17755824.990759\n",
      "Jumlah tagihan pada region southwest 4012754.6476200004\n",
      "Jumlah tagihan pada region southeast 5363689.763289999\n",
      "Jumlah tagihan pada region northwest 4035711.9965399997\n",
      "Jumlah tagihan pada region northeast 4343668.583309\n",
      "---------------------------------------------------------------\n",
      "Peluang tagihan pada region southwest 0.226\n",
      "Peluang tagihan pada region southeast 0.302\n",
      "Peluang tagihan pada region northwest 0.227\n",
      "Peluang tagihan pada region northeast 0.245\n",
      "--------------------------------------------------------------\n",
      "-------------------------------------------------------------\n"
     ]
    },
    {
     "data": {
      "image/png": "[encoded data removed]",
      "text/plain": [
       "<Figure size 432x288 with 1 Axes>"
      ]
     },
     "metadata": {},
     "output_type": "display_data"
    }
   ],
   "source": [
    "sum_charges = df['charges'].sum()\n",
    "print(f'Jumlah tagihan {sum_charges}')\n",
    "\n",
    "sum_region_SW_charges = df[df['region'] == 'southwest']['charges'].sum()\n",
    "print(f'Jumlah tagihan pada region southwest {sum_region_SW_charges}')\n",
    "\n",
    "sum_region_SE_charges = df[df['region'] == 'southeast']['charges'].sum()\n",
    "print(f'Jumlah tagihan pada region southeast {sum_region_SE_charges}')\n",
    "\n",
    "sum_region_NW_charges = df[df['region'] == 'northwest']['charges'].sum()\n",
    "print(f'Jumlah tagihan pada region northwest {sum_region_NW_charges}')\n",
    "\n",
    "sum_region_NE_charges = df[df['region'] == 'northeast']['charges'].sum()\n",
    "print(f'Jumlah tagihan pada region northeast {sum_region_NE_charges}')\n",
    "\n",
    "print('---------------------------------------------------------------')\n",
    "\n",
    "print(f'Peluang tagihan pada region southwest {(sum_region_SW_charges / sum_charges):.3f}')\n",
    "\n",
    "print(f'Peluang tagihan pada region southeast {(sum_region_SE_charges / sum_charges):.3f}')\n",
    "\n",
    "print(f'Peluang tagihan pada region northwest {(sum_region_NW_charges / sum_charges):.3f}')\n",
    "\n",
    "print(f'Peluang tagihan pada region northeast {(sum_region_NE_charges / sum_charges):.3f}')\n",
    "\n",
    "print('--------------------------------------------------------------')\n",
    "\n",
    "dc = pd.DataFrame([('southwest', 0.226),\n",
    "                   ('southeast', 0.302),\n",
    "                   ('northwest', 0.227),\n",
    "                   ('northeast', 0.245)],\n",
    "           columns=('Region', 'Peluang')\n",
    "                 )\n",
    "dc\n",
    "\n",
    "print('-------------------------------------------------------------')\n",
    "\n",
    "sns.set(style='darkgrid')\n",
    "sns.barplot(\n",
    "    x = 'Region',\n",
    "    y = 'Peluang',\n",
    "    data = dc,\n",
    "    estimator = sum,\n",
    "    ci = None)\n",
    "plt.show()"
   ]
  },
  {
   "cell_type": "code",
   "execution_count": 14,
   "id": "8228d531-4d4b-4736-a081-d065058e9576",
   "metadata": {},
   "outputs": [
    {
     "name": "stdout",
     "output_type": "stream",
     "text": [
      "Jumlah data orang pada Region Southwest 325\n",
      "Jumlah data orang pada Region Southeast 364\n",
      "Jumlah data orang pada Region Northwest 325\n",
      "Jumlah data orang pada Region Northeast 324\n"
     ]
    }
   ],
   "source": [
    "region_SW = len(df[df['region'] == 'southwest'])\n",
    "print(f'Jumlah data orang pada Region Southwest {region_SW}')\n",
    "\n",
    "region_SE = len(df[df['region'] == 'southeast'])\n",
    "print(f'Jumlah data orang pada Region Southeast {region_SE}')\n",
    "\n",
    "region_NW = len(df[df['region'] == 'northwest'])\n",
    "print(f'Jumlah data orang pada Region Northwest {region_NW}')\n",
    "\n",
    "region_NE = len(df[df['region'] == 'northeast'])\n",
    "print(f'Jumlah data orang pada Region Northeast {region_NE}')"
   ]
  },
  {
   "cell_type": "code",
   "execution_count": 15,
   "id": "cc1ce795-8488-4b79-9ce3-9c11e8d99678",
   "metadata": {},
   "outputs": [
    {
     "name": "stdout",
     "output_type": "stream",
     "text": [
      "Jumlah data orang yang merokok 274\n",
      "Jumlah data orang yang bukan perokok 1064\n",
      "---------------------------------------------------------------\n",
      "Proporsi orang yang bukan perokok lebih tinggi daripada perokok\n"
     ]
    }
   ],
   "source": [
    "smoker = len(df[df['smoker'] == 'yes'])\n",
    "print(f'Jumlah data orang yang merokok {smoker}')\n",
    "\n",
    "smoker_no = len(df[df['smoker'] == 'no'])\n",
    "print(f'Jumlah data orang yang bukan perokok {smoker_no}')\n",
    "\n",
    "print('---------------------------------------------------------------')\n",
    "print('Proporsi orang yang bukan perokok lebih tinggi daripada perokok')"
   ]
  },
  {
   "cell_type": "code",
   "execution_count": 237,
   "id": "12b5756e-235e-42c7-9d2d-411c7c5b28cf",
   "metadata": {},
   "outputs": [
    {
     "name": "stdout",
     "output_type": "stream",
     "text": [
      "Peluang seseorang tersebut adalah perempuan diketahui dia adalah perokok 0.420\n"
     ]
    }
   ],
   "source": [
    "smoker_female = len(df[(df.smoker=='yes') & (df.sex == 'female')])\n",
    "print(f'Peluang seseorang tersebut adalah perempuan diketahui dia adalah perokok {(smoker_female/smoker):.3f}')"
   ]
  },
  {
   "cell_type": "code",
   "execution_count": 238,
   "id": "af2f0318-ea0f-4e6c-b06e-e76e82c3b141",
   "metadata": {},
   "outputs": [
    {
     "name": "stdout",
     "output_type": "stream",
     "text": [
      "Peluang seseorang tersebut adalah laki-laki diketahui dia adalah perokok 0.580\n"
     ]
    }
   ],
   "source": [
    "smoker_male = len(df[(df.smoker=='yes') & (df.sex == 'male')])\n",
    "print(f'Peluang seseorang tersebut adalah laki-laki diketahui dia adalah perokok {(smoker_male/smoker):.3f}')"
   ]
  },
  {
   "cell_type": "code",
   "execution_count": 239,
   "id": "70eb79f6-1f78-4bd0-ad5b-432b1818e122",
   "metadata": {},
   "outputs": [
    {
     "data": {
      "image/png": "[encoded data removed]",
      "text/plain": [
       "<Figure size 432x288 with 1 Axes>"
      ]
     },
     "metadata": {},
     "output_type": "display_data"
    },
    {
     "name": "stdout",
     "output_type": "stream",
     "text": [
      "Distribusi tagihan setiap region\n"
     ]
    }
   ],
   "source": [
    "sns.set(style='darkgrid')\n",
    "sns.barplot(\n",
    "    x = 'region',\n",
    "    y = 'charges',\n",
    "    data = df,\n",
    "    estimator = sum,\n",
    "    ci = None)\n",
    "plt.show()\n",
    "print('Distribusi tagihan setiap region')"
   ]
  },
  {
   "cell_type": "code",
   "execution_count": 16,
   "id": "c6fe9736-6355-4b65-ba5d-cefc6ff8125e",
   "metadata": {},
   "outputs": [],
   "source": [
    "#CDF"
   ]
  },
  {
   "cell_type": "code",
   "execution_count": 17,
   "id": "f4659e86-6686-4921-9d81-86516529b2bb",
   "metadata": {},
   "outputs": [
    {
     "name": "stdout",
     "output_type": "stream",
     "text": [
      "Jumlah data orang yang memiliki BMI>27 = 953\n",
      "Jumlah data 1338\n",
      "--------------------------------------------------------------------------------------\n",
      "Mencari peluang besar tagihan berdasarkan BMI di atas 27\n",
      "P(Charges, BMI>27|Charges, BMI) = 0.712\n"
     ]
    }
   ],
   "source": [
    "charges_bmi_up_27 = len(df[df['bmi'] > 27]['charges'])\n",
    "print(f'Jumlah data orang yang memiliki BMI>27 = {charges_bmi_up_27}')\n",
    "\n",
    "bmi = len(df['bmi'])\n",
    "print(f'Jumlah data {bmi}')\n",
    "print('--------------------------------------------------------------------------------------')\n",
    "print('Mencari peluang besar tagihan berdasarkan BMI di atas 27')\n",
    "print(f'P(Charges, BMI>27|Charges, BMI) = {(charges_bmi_up_27 / bmi):.3f}')"
   ]
  },
  {
   "cell_type": "code",
   "execution_count": 18,
   "id": "10feabe9-c59b-4b02-9727-e056f248a310",
   "metadata": {},
   "outputs": [
    {
     "name": "stdout",
     "output_type": "stream",
     "text": [
      "Jumlah data perokok dengan BMI > 25 adalah 219\n",
      "Jumlah data perokok dengan BMI > 25 dan charges > 16700 adalah 215\n",
      "-------------------------------------------------------------------------------------------------------------------\n",
      "Mencari kemungkinan terjadi, seorang perokok dengan BMI diatas 25 akan mendapatkan tagihan kesehatan di atas 16700\n",
      "P(Charges>16700|BMI>25) = 0.982\n"
     ]
    }
   ],
   "source": [
    "bmi_25_smoker = len(df[(df.bmi > 25) & (df.smoker == 'yes')])\n",
    "print(f'Jumlah data perokok dengan BMI > 25 adalah {bmi_25_smoker}')\n",
    "\n",
    "charges_16700_bmi_25_smoker = len(df[(df.bmi > 25) & (df.charges > 16700) & (df.smoker == 'yes')])\n",
    "print(f'Jumlah data perokok dengan BMI > 25 dan charges > 16700 adalah {charges_16700_bmi_25_smoker}')\n",
    "\n",
    "print('-------------------------------------------------------------------------------------------------------------------')\n",
    "print('Mencari kemungkinan terjadi, seorang perokok dengan BMI diatas 25 akan mendapatkan tagihan kesehatan di atas 16700')\n",
    "print(f'P(Charges>16700|BMI>25) = {(charges_16700_bmi_25_smoker / bmi_25_smoker):.3f}')"
   ]
  },
  {
   "cell_type": "code",
   "execution_count": 19,
   "id": "997a281e-f6c8-4c5b-bc8f-9a482c27221d",
   "metadata": {},
   "outputs": [
    {
     "name": "stdout",
     "output_type": "stream",
     "text": [
      "Jumlah data orang yang merokok 274\n",
      "Jumlah data perokok dengan charges > 16700 adalah 254\n",
      "Berapa peluang seseorang acak tagihan kesehatannya diatas 16700 diketahui dia adalah perokok\n",
      "P(Charges>16700|Smoker=yes) = 0.927\n"
     ]
    }
   ],
   "source": [
    "smoker = len(df[df['smoker'] == 'yes'])\n",
    "print(f'Jumlah data orang yang merokok {smoker}')\n",
    "\n",
    "charges_16700_smoker = len(df[(df.charges > 16700) & (df.smoker == 'yes')])\n",
    "print(f'Jumlah data perokok dengan charges > 16700 adalah {charges_16700_smoker}')\n",
    "\n",
    "print('Berapa peluang seseorang acak tagihan kesehatannya diatas 16700 diketahui dia adalah perokok')\n",
    "print(f'P(Charges>16700|Smoker=yes) = {(charges_16700_smoker / smoker):.3f}')"
   ]
  },
  {
   "cell_type": "code",
   "execution_count": 20,
   "id": "0b925f38-0396-41de-b348-f3f675ac4f35",
   "metadata": {},
   "outputs": [
    {
     "name": "stdout",
     "output_type": "stream",
     "text": [
      "Jumlah data orang yang memiliki BMI>25 1091\n",
      "Jumlah data orang yang memiliki BMI<25 245\n",
      "Jumlah data orang yang memiliki BMI>25 dan dengan charges>16700 adalah 283\n",
      "Jumlah data orang yang memiliki BMI<25 dan dengan charges>16700 adalah 51\n",
      "P(Charges>16700|BMI>25) = 0.259\n",
      "P(Charges>16700|BMI<25) = 0.208\n",
      "Mana yang lebih mungkin terjadi\n",
      "a. Seseorang dengan BMI diatas 25 mendapatkan tagihan kesehatan diatas 16700 atau\n",
      "b. Seseorang dengan BMI dibawah 25 mendapatkan tagihan kesehatan diatas 16700\n",
      "---------------------------------------------------------------------------------\n",
      "Jadi yang lebih mungkin terjadi adalah a\n"
     ]
    }
   ],
   "source": [
    "bmi_up_25 = len(df[df['bmi'] > 25])\n",
    "print(f'Jumlah data orang yang memiliki BMI>25 {bmi_up_25}')\n",
    "\n",
    "bmi_low_25 = len(df[df['bmi'] < 25])\n",
    "print(f'Jumlah data orang yang memiliki BMI<25 {bmi_low_25}')\n",
    "\n",
    "bmi_up_25_up_16700 = len(df[(df.bmi > 25) & (df.charges > 16700)])\n",
    "print(f'Jumlah data orang yang memiliki BMI>25 dan dengan charges>16700 adalah {bmi_up_25_up_16700}')\n",
    "\n",
    "bmi_low_25_up_16700 = len(df[(df.bmi < 25) & (df.charges > 16700)])\n",
    "print(f'Jumlah data orang yang memiliki BMI<25 dan dengan charges>16700 adalah {bmi_low_25_up_16700}')\n",
    "\n",
    "print(f'P(Charges>16700|BMI>25) = {(bmi_up_25_up_16700 / bmi_up_25):.3f}')\n",
    "print(f'P(Charges>16700|BMI<25) = {(bmi_low_25_up_16700 / bmi_low_25):.3f}')\n",
    "\n",
    "print('Mana yang lebih mungkin terjadi')\n",
    "print('a. Seseorang dengan BMI diatas 25 mendapatkan tagihan kesehatan diatas 16700 atau')\n",
    "print('b. Seseorang dengan BMI dibawah 25 mendapatkan tagihan kesehatan diatas 16700')\n",
    "print('---------------------------------------------------------------------------------')\n",
    "print('Jadi yang lebih mungkin terjadi adalah a')"
   ]
  },
  {
   "cell_type": "code",
   "execution_count": 21,
   "id": "e152717f-1a87-4b39-b9af-e96ed41481b9",
   "metadata": {},
   "outputs": [
    {
     "name": "stdout",
     "output_type": "stream",
     "text": [
      "Jumlah data perokok yang memiliki BMI>25 219\n",
      "Jumlah data bukan perokok yang memiliki BMI>25 872\n",
      "Jumlah data perokok yang memiliki BMI>25 dan dengan charges>16700 adalah 215\n",
      "Jumlah data bukan perokok yang memiliki BMI>25 dan dengan charges>16700 adalah 68\n",
      "Perokok dengan P(Charges>16700|BMI>25) = 0.982\n",
      "Bukan perokok dengan P(Charges>16700|BMI>25) = 0.078\n",
      "Mana yang lebih mungkin terjadi\n",
      "a. Seseorang perokok dengan BMI diatas 25 mendapatkan tagihan kesehatan diatas 16700 atau\n",
      "b. Seseorang non perokok dengan BMI diatas 25 mendapatkan tagihan kesehatan diatas 16700\n",
      "-----------------------------------------------------------------------------------------\n",
      "Jadi yang lebih mungkin terjadi adalah a\n"
     ]
    }
   ],
   "source": [
    "bmi_up_25_smoker = len(df[(df.bmi > 25) & (df.smoker == 'yes')])\n",
    "print(f'Jumlah data perokok yang memiliki BMI>25 {bmi_up_25_smoker}')\n",
    "\n",
    "bmi_up_25_no_smoker = len(df[(df.bmi > 25) & (df.smoker == 'no')])\n",
    "print(f'Jumlah data bukan perokok yang memiliki BMI>25 {bmi_up_25_no_smoker}')\n",
    "\n",
    "bmi_up_25_smoker_up_16700 = len(df[(df.bmi > 25) & (df.charges > 16700) & (df.smoker == 'yes')])\n",
    "print(f'Jumlah data perokok yang memiliki BMI>25 dan dengan charges>16700 adalah {bmi_up_25_smoker_up_16700}')\n",
    "\n",
    "bmi_up_25_no_smoker_up_16700 = len(df[(df.bmi > 25) & (df.charges > 16700) & (df.smoker == 'no')])\n",
    "print(f'Jumlah data bukan perokok yang memiliki BMI>25 dan dengan charges>16700 adalah {bmi_up_25_no_smoker_up_16700}')\n",
    "\n",
    "print(f'Perokok dengan P(Charges>16700|BMI>25) = {(bmi_up_25_smoker_up_16700 / bmi_up_25_smoker):.3f}')\n",
    "print(f'Bukan perokok dengan P(Charges>16700|BMI>25) = {(bmi_up_25_no_smoker_up_16700 / bmi_up_25_no_smoker):.3f}')\n",
    "\n",
    "print('Mana yang lebih mungkin terjadi')\n",
    "print('a. Seseorang perokok dengan BMI diatas 25 mendapatkan tagihan kesehatan diatas 16700 atau')\n",
    "print('b. Seseorang non perokok dengan BMI diatas 25 mendapatkan tagihan kesehatan diatas 16700')\n",
    "print('-----------------------------------------------------------------------------------------')\n",
    "print('Jadi yang lebih mungkin terjadi adalah a')"
   ]
  },
  {
   "cell_type": "code",
   "execution_count": 22,
   "id": "c98a26b4-9269-4202-9fad-9d6eb29d3ea4",
   "metadata": {},
   "outputs": [],
   "source": [
    "#Correlation"
   ]
  },
  {
   "cell_type": "code",
   "execution_count": 23,
   "id": "022c286b-26c5-4ff0-bbf6-21650b0a381e",
   "metadata": {},
   "outputs": [
    {
     "data": {
      "text/plain": [
       "Text(0, 0.5, 'charges')"
      ]
     },
     "execution_count": 23,
     "metadata": {},
     "output_type": "execute_result"
    },
    {
     "data": {
      "image/png": "[encoded data removed]",
      "text/plain": [
       "<Figure size 432x288 with 1 Axes>"
      ]
     },
     "metadata": {},
     "output_type": "display_data"
    }
   ],
   "source": [
    "import matplotlib.pyplot as plt\n",
    "plt.scatter(df['smoker'], df['charges'])\n",
    "plt.xlabel('smoker')\n",
    "plt.ylabel('charges')"
   ]
  },
  {
   "cell_type": "code",
   "execution_count": 24,
   "id": "34caa62d-8d3c-4d4a-917a-5eed6826505b",
   "metadata": {},
   "outputs": [
    {
     "name": "stdout",
     "output_type": "stream",
     "text": [
      "[[3.71878836e+01 1.46473044e+04]\n",
      " [1.46473044e+04 1.46652372e+08]]\n",
      "              bmi   charges\n",
      "bmi      1.000000  0.198341\n",
      "charges  0.198341  1.000000\n"
     ]
    },
    {
     "data": {
      "image/png": "[encoded data removed]",
      "text/plain": [
       "<Figure size 432x288 with 1 Axes>"
      ]
     },
     "metadata": {},
     "output_type": "display_data"
    }
   ],
   "source": [
    "import matplotlib.pyplot as plt\n",
    "plt.scatter(df['bmi'], df['charges'])\n",
    "plt.xlabel('bmi')\n",
    "plt.ylabel('charges')\n",
    "\n",
    "print(np.cov(df['bmi'], df['charges']))\n",
    "\n",
    "print(df[['bmi', 'charges']].corr())"
   ]
  },
  {
   "cell_type": "code",
   "execution_count": 25,
   "id": "a756bab7-8921-469e-99f6-32aa2fb49e01",
   "metadata": {},
   "outputs": [
    {
     "data": {
      "text/plain": [
       "Text(0, 0.5, 'charges')"
      ]
     },
     "execution_count": 25,
     "metadata": {},
     "output_type": "execute_result"
    },
    {
     "data": {
      "image/png": "[encoded data removed]",
      "text/plain": [
       "<Figure size 432x288 with 1 Axes>"
      ]
     },
     "metadata": {},
     "output_type": "display_data"
    }
   ],
   "source": [
    "import matplotlib.pyplot as plt\n",
    "plt.scatter(df['sex'], df['charges'])\n",
    "plt.xlabel('sex')\n",
    "plt.ylabel('charges')"
   ]
  },
  {
   "cell_type": "code",
   "execution_count": 26,
   "id": "d034e1d7-9b13-4c6b-96c3-9d6225e0ed68",
   "metadata": {},
   "outputs": [
    {
     "name": "stdout",
     "output_type": "stream",
     "text": [
      "[[1.97401387e+02 5.08748023e+04]\n",
      " [5.08748023e+04 1.46652372e+08]]\n",
      "              age   charges\n",
      "age      1.000000  0.299008\n",
      "charges  0.299008  1.000000\n"
     ]
    },
    {
     "data": {
      "image/png": "[encoded data removed]",
      "text/plain": [
       "<Figure size 432x288 with 1 Axes>"
      ]
     },
     "metadata": {},
     "output_type": "display_data"
    }
   ],
   "source": [
    "import matplotlib.pyplot as plt\n",
    "plt.scatter(df['age'], df['charges'])\n",
    "plt.xlabel('age')\n",
    "plt.ylabel('charges')\n",
    "\n",
    "print(np.cov(df['age'], df['charges']))\n",
    "\n",
    "print(df[['age', 'charges']].corr())"
   ]
  },
  {
   "cell_type": "code",
   "execution_count": 27,
   "id": "4924c136-f9aa-4780-918c-064651da1818",
   "metadata": {},
   "outputs": [
    {
     "data": {
      "text/plain": [
       "Text(0, 0.5, 'bmi')"
      ]
     },
     "execution_count": 27,
     "metadata": {},
     "output_type": "execute_result"
    },
    {
     "data": {
      "image/png": "[encoded data removed]",
      "text/plain": [
       "<Figure size 432x288 with 1 Axes>"
      ]
     },
     "metadata": {},
     "output_type": "display_data"
    }
   ],
   "source": [
    "import matplotlib.pyplot as plt\n",
    "plt.scatter(df['smoker'], df['bmi'])\n",
    "plt.xlabel('smoker')\n",
    "plt.ylabel('bmi')"
   ]
  },
  {
   "cell_type": "code",
   "execution_count": 29,
   "id": "4c4301c6-9886-4899-bbe0-2e3702204e7f",
   "metadata": {},
   "outputs": [],
   "source": [
    "#Pengujian Hipotesis"
   ]
  },
  {
   "cell_type": "code",
   "execution_count": 30,
   "id": "f69e9051-bc00-463f-a410-5f09b13654d5",
   "metadata": {},
   "outputs": [],
   "source": [
    "from statsmodels.stats.weightstats import ztest\n",
    "import numpy as np\n",
    "import scipy.stats as stats\n",
    "import math"
   ]
  },
  {
   "cell_type": "code",
   "execution_count": 31,
   "id": "7f7a6a7f-66fa-48ab-a014-8201f639766e",
   "metadata": {},
   "outputs": [
    {
     "name": "stdout",
     "output_type": "stream",
     "text": [
      "Tagihan kesehatan perokok lebih tinggi daripada tagihan kesehatan bukan perokok\n",
      "-----------------------------------------------------------------------------\n",
      "Uji Z 2 Populasi\n",
      "H0 : P1 ≤ P2 --> Tagihan kesehatan perokok lebih rendah dari bukan perokok\n",
      "H1 : P1 > P2 --> Tagihan kesehatan perokok lebih tinggi dari bukan perokok\n",
      "----------------------------------------------------------------------------\n",
      "46.66492117272371 0.0\n",
      "Reject the null hypothesis\n"
     ]
    }
   ],
   "source": [
    "charges_smoker = np.array(df['charges'].loc[df['smoker']=='yes'])\n",
    "charges_no_smoker = np.array(df['charges'].loc[df['smoker']=='no'])\n",
    "\n",
    "print('Tagihan kesehatan perokok lebih tinggi daripada tagihan kesehatan bukan perokok')\n",
    "print('-----------------------------------------------------------------------------')\n",
    "print('Uji Z 2 Populasi')\n",
    "print('H0 : P1 ≤ P2 --> Tagihan kesehatan perokok lebih rendah dari bukan perokok')\n",
    "print('H1 : P1 > P2 --> Tagihan kesehatan perokok lebih tinggi dari bukan perokok')\n",
    "\n",
    "alpha = 0.05\n",
    "print('----------------------------------------------------------------------------')\n",
    "stat, pvalue = ztest(charges_smoker, charges_no_smoker, alternative = 'larger', value=0)\n",
    "print(stat, pvalue)\n",
    "\n",
    "if pvalue<0.05:\n",
    "  print(\"Reject the null hypothesis\")\n",
    "else:\n",
    "  print(\"Accepting the Null hypothesis\")"
   ]
  },
  {
   "cell_type": "code",
   "execution_count": 32,
   "id": "ef8bd1c3-6d7f-45ad-a52d-3096d104cb29",
   "metadata": {},
   "outputs": [
    {
     "name": "stdout",
     "output_type": "stream",
     "text": [
      "Tagihan kesehatan dengan BMI diatas 25 lebih tinggi daripada tagihan kesehatan dengan BMI dibawah 25\n",
      "-----------------------------------------------------------------------------\n",
      "Uji Z 2 Populasi\n",
      "H0 : P1 ≤ P2 --> Tagihan kesehatan BMI diatas 25 lebih rendah dari BMI dibawah 25\n",
      "H1 : P1 > P2 --> Tagihan kesehatan BMI diatas 25 lebih tinggi dari BMI dibawah 25\n",
      "----------------------------------------------------------------------------\n",
      "4.305033989510502 8.348004956755111e-06\n",
      "Reject the null hypothesis\n"
     ]
    }
   ],
   "source": [
    "bmi_up_25_smoker = np.array(df['charges'].loc[df['bmi']>25])\n",
    "bmi_low_25_smoker = np.array(df['charges'].loc[df['bmi']<25])\n",
    "\n",
    "print('Tagihan kesehatan dengan BMI diatas 25 lebih tinggi daripada tagihan kesehatan dengan BMI dibawah 25')\n",
    "print('-----------------------------------------------------------------------------')\n",
    "print('Uji Z 2 Populasi')\n",
    "print('H0 : P1 ≤ P2 --> Tagihan kesehatan BMI diatas 25 lebih rendah dari BMI dibawah 25')\n",
    "print('H1 : P1 > P2 --> Tagihan kesehatan BMI diatas 25 lebih tinggi dari BMI dibawah 25')\n",
    "\n",
    "alpha = 0.005\n",
    "print('----------------------------------------------------------------------------')\n",
    "stat, pvalue = ztest(bmi_up_25_smoker, bmi_low_25_smoker, alternative = 'larger', value=0)\n",
    "print(stat, pvalue)\n",
    "\n",
    "if pvalue<0.05:\n",
    "  print(\"Reject the null hypothesis\")\n",
    "else:\n",
    "  print(\"Accepting the Null hypothesis\")"
   ]
  },
  {
   "cell_type": "code",
   "execution_count": 33,
   "id": "831749dc-8a0d-46ab-a94e-765ba97066de",
   "metadata": {},
   "outputs": [
    {
     "name": "stdout",
     "output_type": "stream",
     "text": [
      "Tagihan kesehatan laki-laki lebih besar dari perempuan\n",
      "-----------------------------------------------------------------------------\n",
      "Uji Z 2 Populasi\n",
      "H0 : P1 ≤ P2 --> Tagihan kesehatan laki-laki lebih kecil dari perempuan\n",
      "H1 : P1 > P2 --> Tagihan kesehatan laki-laki lebih besar dari perempuan\n",
      "----------------------------------------------------------------------------\n",
      "2.097546590051688 0.017972608708410026\n",
      "Reject the null hypothesis\n"
     ]
    }
   ],
   "source": [
    "charges_male = np.array(df['charges'].loc[df['sex']=='male'])\n",
    "charges_female = np.array(df['charges'].loc[df['sex']=='female'])\n",
    "\n",
    "print('Tagihan kesehatan laki-laki lebih besar dari perempuan')\n",
    "print('-----------------------------------------------------------------------------')\n",
    "print('Uji Z 2 Populasi')\n",
    "print('H0 : P1 ≤ P2 --> Tagihan kesehatan laki-laki lebih kecil dari perempuan')\n",
    "print('H1 : P1 > P2 --> Tagihan kesehatan laki-laki lebih besar dari perempuan')\n",
    "\n",
    "alpha = 0.05\n",
    "print('----------------------------------------------------------------------------')\n",
    "stat, pvalue = ztest(charges_male, charges_female, alternative = 'larger', value=0)\n",
    "print(stat, pvalue)\n",
    "\n",
    "if pvalue<0.05:\n",
    "  print(\"Reject the null hypothesis\")\n",
    "else:\n",
    "  print(\"Accepting the Null hypothesis\")\n"
   ]
  },
  {
   "cell_type": "code",
   "execution_count": 335,
   "id": "c66f9ded-6970-4c6f-b666-5a232fd142a0",
   "metadata": {},
   "outputs": [],
   "source": [
    "#Alhamdulillah Ya Allah "
   ]
  },
  {
   "cell_type": "code",
   "execution_count": null,
   "id": "ec8a9277-4046-497f-9203-553b4b8ebe05",
   "metadata": {},
   "outputs": [],
   "source": []
  }
 ],
 "metadata": {
  "kernelspec": {
   "display_name": "Python 3 (ipykernel)",
   "language": "python",
   "name": "python3"
  },
  "language_info": {
   "codemirror_mode": {
    "name": "ipython",
    "version": 3
   },
   "file_extension": ".py",
   "mimetype": "text/x-python",
   "name": "python",
   "nbconvert_exporter": "python",
   "pygments_lexer": "ipython3",
   "version": "3.9.12"
  }
 },
 "nbformat": 4,
 "nbformat_minor": 5
}
